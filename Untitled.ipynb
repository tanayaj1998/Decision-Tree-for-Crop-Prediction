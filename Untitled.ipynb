{
 "cells": [
  {
   "cell_type": "code",
   "execution_count": 1,
   "metadata": {},
   "outputs": [],
   "source": [
    "#importing the required libraries\n",
    "import pandas as pd\n",
    "import numpy as np\n",
    "from sklearn.model_selection import train_test_split\n",
    "import joblib\n",
    "\n"
   ]
  },
  {
   "cell_type": "code",
   "execution_count": 2,
   "metadata": {
    "scrolled": false
   },
   "outputs": [
    {
     "name": "stdout",
     "output_type": "stream",
     "text": [
      "   temperature   humidity    rainfall label\n",
      "0    20.879744  82.002744  202.935536  rice\n",
      "1    21.770462  80.319644  226.655537  rice\n",
      "2    23.004459  82.320763  263.964248  rice\n",
      "3    26.491096  80.158363  242.864034  rice\n",
      "4    20.130175  81.604873  262.717340  rice\n"
     ]
    }
   ],
   "source": [
    "#Reading the csv file\n",
    "data=pd.read_csv('cpdata.csv')\n",
    "print(data.head(5))\n",
    "\n"
   ]
  },
  {
   "cell_type": "code",
   "execution_count": 3,
   "metadata": {},
   "outputs": [
    {
     "name": "stdout",
     "output_type": "stream",
     "text": [
      "The data present in one row of the dataset is\n",
      "   temperature   humidity    rainfall  Mung Bean  Tea  maize  millet  rice  \\\n",
      "0    20.879744  82.002744  202.935536          0    0      0       0     1   \n",
      "1    21.770462  80.319644  226.655537          0    0      0       0     1   \n",
      "2    23.004459  82.320763  263.964248          0    0      0       0     1   \n",
      "3    26.491096  80.158363  242.864034          0    0      0       0     1   \n",
      "4    20.130175  81.604873  262.717340          0    0      0       0     1   \n",
      "\n",
      "   wheat  \n",
      "0      0  \n",
      "1      0  \n",
      "2      0  \n",
      "3      0  \n",
      "4      0  \n",
      "[[ 20.87974371  82.00274423 202.9355362 ]\n",
      " [ 21.77046169  80.31964408 226.6555374 ]\n",
      " [ 23.00445915  82.3207629  263.9642476 ]\n",
      " ...\n",
      " [ 18.74826712  62.49878458  70.23401597]\n",
      " [ 19.74213321  59.66263104  65.50861389]\n",
      " [ 25.73044432  70.74739256  98.73771338]]\n",
      "[[0 0 0 0 1 0]\n",
      " [0 0 0 0 1 0]\n",
      " [0 0 0 0 1 0]\n",
      " ...\n",
      " [0 0 1 0 0 0]\n",
      " [0 0 1 0 0 0]\n",
      " [0 0 1 0 0 0]]\n"
     ]
    }
   ],
   "source": [
    "#Creating dummy variable for target i.e label\n",
    "label= pd.get_dummies(data.label)\n",
    "data= pd.concat([data,label],axis=1)\n",
    "data.drop('label', axis=1,inplace=True)\n",
    "print('The data present in one row of the dataset is')\n",
    "print(data.head(5))\n",
    "train=data.iloc[:, 0:3].values\n",
    "print(train)\n",
    "test=data.iloc[: ,3:].values\n",
    "print(test)\n"
   ]
  },
  {
   "cell_type": "code",
   "execution_count": 4,
   "metadata": {},
   "outputs": [],
   "source": [
    "#Dividing the data into training and test set\n",
    "X_train,X_test,y_train,y_test=train_test_split(train,test,test_size=0.3)\n",
    "\n"
   ]
  },
  {
   "cell_type": "code",
   "execution_count": 5,
   "metadata": {},
   "outputs": [],
   "source": [
    "from sklearn.preprocessing import StandardScaler\n",
    "sc = StandardScaler()\n",
    "X_train = sc.fit_transform(X_train)\n",
    "X_test = sc.transform(X_test)\n",
    "\n"
   ]
  },
  {
   "cell_type": "code",
   "execution_count": 6,
   "metadata": {},
   "outputs": [],
   "source": [
    "#Importing Decision Tree classifier\n",
    "from sklearn.tree import DecisionTreeRegressor\n",
    "clf=DecisionTreeRegressor()\n"
   ]
  },
  {
   "cell_type": "code",
   "execution_count": 8,
   "metadata": {},
   "outputs": [
    {
     "data": {
      "text/plain": [
       "['finalized_model.sav']"
      ]
     },
     "execution_count": 8,
     "metadata": {},
     "output_type": "execute_result"
    }
   ],
   "source": [
    "#Fitting the classifier into training set\n",
    "clf.fit(X_train,y_train)\n",
    "filename = 'finalized_model.sav'\n",
    "joblib.dump(clf, filename)\n",
    "#pred=clf.predict(X_test)\n",
    "\n",
    " "
   ]
  },
  {
   "cell_type": "code",
   "execution_count": 28,
   "metadata": {},
   "outputs": [
    {
     "name": "stdout",
     "output_type": "stream",
     "text": [
      "The accuracy of this model is:  95.0\n"
     ]
    }
   ],
   "source": [
    "#from sklearn.metrics import accuracy_score\n",
    "# Finding the accuracy of the model decision tree\n",
    "#a=accuracy_score(y_test,pred)\n",
    "#print(\"The accuracy of this model is: \", a*100)\n"
   ]
  },
  {
   "cell_type": "code",
   "execution_count": 9,
   "metadata": {},
   "outputs": [],
   "source": [
    "def predict(tp):\n",
    "    clf = joblib.load(filename)\n",
    "    #tp=[50,50,34,100]#input\n",
    "\n",
    "    #humidity-0 temp-1 soilmoisture-2 rainfall-3 \n",
    "    ah=tp[0]\n",
    "    atemp=tp[1]\n",
    "    shum=tp[2]\n",
    "    rain=tp[3]\n",
    "\n",
    "\n",
    "    l=[]\n",
    "    l.append(ah)\n",
    "    l.append(atemp)\n",
    "    l.append(rain)\n",
    "    predictcrop=[l]\n",
    "\n",
    "    # Putting the names of crop in a single list\n",
    "    crops=['rice','wheat','mungbean','maize','Tea','millet']\n",
    "    cr='rice'\n",
    "\n",
    "    #Predicting the crop\n",
    "    predictions = clf.predict(predictcrop)\n",
    "    count=0\n",
    "    for i in range(0,len(predictcrop)):\n",
    "        if(predictions[0][i]==1):\n",
    "            c=crops[i]\n",
    "            count=count+1\n",
    "            break;\n",
    "        i=i+1\n",
    "    if(count==0):\n",
    "        return cr#output\n",
    "    \n",
    "    return c"
   ]
  },
  {
   "cell_type": "code",
   "execution_count": 10,
   "metadata": {},
   "outputs": [
    {
     "name": "stdout",
     "output_type": "stream",
     "text": [
      "[[0. 0. 0. 1. 0. 0.]]\n",
      "rice\n"
     ]
    }
   ],
   "source": [
    "print(predict([50,50,34,100]))"
   ]
  },
  {
   "cell_type": "code",
   "execution_count": 32,
   "metadata": {},
   "outputs": [
    {
     "data": {
      "image/png": "[encoded data removed]",
      "text/plain": [
       "<Figure size 640x480 with 1 Axes>"
      ]
     },
     "metadata": {},
     "output_type": "display_data"
    }
   ],
   "source": [
    "dt=95\n",
    "pmr=93\n",
    "\n",
    "import matplotlib.pyplot as plt; plt.rcdefaults()\n",
    "import numpy as np\n",
    "import matplotlib.pyplot as plt\n",
    "\n",
    "objects = ('Custom Algorithm', 'Decision Tree', 'Multivariable regression')\n",
    "y_pos = np.arange(len(objects))\n",
    "performance = [95,87,93]\n",
    "\n",
    "plt.bar(y_pos, performance, align='center', alpha=0.5)\n",
    "plt.xticks(y_pos, objects)\n",
    "plt.ylabel('Accuracy')\n",
    "plt.title('Accuracy of Crop suggestion algorithms')\n",
    "plt.show()"
   ]
  },
  {
   "cell_type": "code",
   "execution_count": null,
   "metadata": {},
   "outputs": [],
   "source": []
  },
  {
   "cell_type": "code",
   "execution_count": null,
   "metadata": {},
   "outputs": [],
   "source": []
  },
  {
   "cell_type": "code",
   "execution_count": null,
   "metadata": {},
   "outputs": [],
   "source": []
  }
 ],
 "metadata": {
  "kernelspec": {
   "display_name": "Python 3",
   "language": "python",
   "name": "python3"
  },
  "language_info": {
   "codemirror_mode": {
    "name": "ipython",
    "version": 3
   },
   "file_extension": ".py",
   "mimetype": "text/x-python",
   "name": "python",
   "nbconvert_exporter": "python",
   "pygments_lexer": "ipython3",
   "version": "3.7.7"
  }
 },
 "nbformat": 4,
 "nbformat_minor": 2
}
